{
  "cells": [
    {
      "cell_type": "code",
      "execution_count": null,
      "metadata": {
        "id": "6VeCHH01gtmM"
      },
      "outputs": [],
      "source": [
        "# Importing necessary libraries:\n",
        "import torch\n",
        "import torchvision\n",
        "import torchvision.transforms as T\n",
        "from torch import nn\n",
        "from torchvision.datasets import STL10\n",
        "from torch.utils.data.dataloader import DataLoader"
      ]
    },
    {
      "cell_type": "code",
      "execution_count": null,
      "metadata": {
        "id": "izS5K9AagzjR"
      },
      "outputs": [],
      "source": [
        "# Device agnostic code:\n",
        "device = \"cuda\" if torch.cuda.is_available() else \"cpu\"\n",
        "print(f\"The current device torch is on: {device}\")"
      ]
    },
    {
      "cell_type": "code",
      "execution_count": null,
      "metadata": {
        "id": "aCx-0x0HhCsv"
      },
      "outputs": [],
      "source": [
        "transform = T.Compose([\n",
        "    T.Resize(size=(224, 224)),\n",
        "    T.ToTensor()\n",
        "])\n",
        "\n",
        "print(f\"Transformation pipeline:\\n{transform}\")"
      ]
    },
    {
      "cell_type": "code",
      "execution_count": null,
      "metadata": {
        "id": "U4EmFU-ZhQCe"
      },
      "outputs": [],
      "source": [
        "# Training and testing dataset\n",
        "train_data = STL10(root = \"dataset\", split = \"train\", transform = transform, download = True)\n",
        "test_data = STL10(root = \"dataset\", split = \"test\", transform = transform, download = True)"
      ]
    },
    {
      "cell_type": "code",
      "execution_count": null,
      "metadata": {
        "id": "YICTQGhwhtJo"
      },
      "outputs": [],
      "source": [
        "print(f\"Length of training_data: {len(train_data)}\")\n",
        "print(f\"Length of testing data: {len(test_data)}\")"
      ]
    },
    {
      "cell_type": "code",
      "execution_count": null,
      "metadata": {
        "id": "qeTODTPRiOVS"
      },
      "outputs": [],
      "source": [
        "classes = train_data.classes\n",
        "print(classes)"
      ]
    },
    {
      "cell_type": "code",
      "execution_count": null,
      "metadata": {
        "id": "5OFS24gWiw3S"
      },
      "outputs": [],
      "source": [
        "# Visualization:\n",
        "import matplotlib.pyplot as plt\n",
        "\n",
        "image = train_data[0][0].permute(1,2,0) # [channels, height, width] -> [height, width, channels]\n",
        "label = train_data[0][1]\n",
        "\n",
        "# Plot image\n",
        "plt.figure()\n",
        "plt.imshow(image)\n",
        "plt.title(f\"{classes[label]},{image.shape}\")\n",
        "plt.axis(False)"
      ]
    },
    {
      "cell_type": "code",
      "execution_count": null,
      "metadata": {
        "id": "gXq9IE15i0Ua"
      },
      "outputs": [],
      "source": [
        "# Coverting train and test datasets into DataLoaders\n",
        "BATCH_SIZE = 64\n",
        "train_dataloader = DataLoader(dataset=train_data, batch_size = BATCH_SIZE, shuffle = True)\n",
        "test_dataloader = DataLoader(dataset=test_data, batch_size = BATCH_SIZE, shuffle = False)\n",
        "\n",
        "print(f\"Length of train_dataloader:{len(list(next(iter(train_dataloader)))[0])}\")\n",
        "print(f\"Length of test_dataloader:{len(list(next(iter(test_dataloader)))[0])}\")"
      ]
    },
    {
      "cell_type": "code",
      "source": [
        "# Define your ResNet-50 model\n",
        "class ResNet50(nn.Module):\n",
        "    def __init__(self, num_classes):\n",
        "        super(ResNet50, self).__init__()\n",
        "        # Define the architecture of ResNet-50\n",
        "        # You can use torchvision.models to load a pre-defined ResNet-50\n",
        "        # or implement it from scratch.\n",
        "        self.resnet50 = torchvision.models.resnet50(pretrained=False)\n",
        "        # Modify the final fully connected layer to match your number of classes\n",
        "        self.resnet50.fc = nn.Linear(2048, num_classes)\n",
        "\n",
        "    def forward(self, x):\n",
        "        return self.resnet50(x)"
      ],
      "metadata": {
        "id": "_yYORYwaPM1d"
      },
      "execution_count": null,
      "outputs": []
    },
    {
      "cell_type": "code",
      "source": [
        "model = ResNet50(num_classes = len(classes))\n",
        "model"
      ],
      "metadata": {
        "id": "MadPpKy9PVKA"
      },
      "execution_count": null,
      "outputs": []
    },
    {
      "cell_type": "code",
      "execution_count": null,
      "metadata": {
        "id": "NxRk91B5tSkO"
      },
      "outputs": [],
      "source": [
        "# Loss and optimizer\n",
        "loss_fn = nn.CrossEntropyLoss()\n",
        "optimizer = torch.optim.Adam(params = model.parameters(), lr = 0.01)"
      ]
    },
    {
      "cell_type": "code",
      "execution_count": 15,
      "metadata": {
        "id": "t6U2HYVwq5JI",
        "colab": {
          "base_uri": "https://localhost:8080/",
          "height": 581
        },
        "outputId": "ae1ba53c-1ed4-4c9d-d505-b56f9173e9a5"
      },
      "outputs": [
        {
          "output_type": "stream",
          "name": "stdout",
          "text": [
            "Epoch [1/5], Batch [10/79], Loss: 2.8619\n",
            "Epoch [1/5], Batch [20/79], Loss: 2.6286\n",
            "Epoch [1/5], Batch [30/79], Loss: 2.5451\n",
            "Epoch [1/5], Batch [40/79], Loss: 2.4741\n",
            "Epoch [1/5], Batch [50/79], Loss: 2.4018\n",
            "Epoch [1/5], Batch [60/79], Loss: 2.3345\n",
            "Epoch [1/5], Batch [70/79], Loss: 2.2860\n",
            "Epoch [1/5], Loss: 2.2487\n",
            "Epoch [2/5], Batch [10/79], Loss: 1.9485\n",
            "Epoch [2/5], Batch [20/79], Loss: 1.8902\n",
            "Epoch [2/5], Batch [30/79], Loss: 1.8655\n"
          ]
        },
        {
          "output_type": "error",
          "ename": "KeyboardInterrupt",
          "evalue": "ignored",
          "traceback": [
            "\u001b[0;31m---------------------------------------------------------------------------\u001b[0m",
            "\u001b[0;31mKeyboardInterrupt\u001b[0m                         Traceback (most recent call last)",
            "\u001b[0;32m<ipython-input-15-27738e7eb415>\u001b[0m in \u001b[0;36m<cell line: 2>\u001b[0;34m()\u001b[0m\n\u001b[1;32m      8\u001b[0m         \u001b[0moutput\u001b[0m \u001b[0;34m=\u001b[0m \u001b[0mmodel\u001b[0m\u001b[0;34m(\u001b[0m\u001b[0mdata\u001b[0m\u001b[0;34m)\u001b[0m\u001b[0;34m\u001b[0m\u001b[0;34m\u001b[0m\u001b[0m\n\u001b[1;32m      9\u001b[0m         \u001b[0mloss\u001b[0m \u001b[0;34m=\u001b[0m \u001b[0mloss_fn\u001b[0m\u001b[0;34m(\u001b[0m\u001b[0moutput\u001b[0m\u001b[0;34m,\u001b[0m \u001b[0mtarget\u001b[0m\u001b[0;34m)\u001b[0m\u001b[0;34m\u001b[0m\u001b[0;34m\u001b[0m\u001b[0m\n\u001b[0;32m---> 10\u001b[0;31m         \u001b[0mloss\u001b[0m\u001b[0;34m.\u001b[0m\u001b[0mbackward\u001b[0m\u001b[0;34m(\u001b[0m\u001b[0;34m)\u001b[0m\u001b[0;34m\u001b[0m\u001b[0;34m\u001b[0m\u001b[0m\n\u001b[0m\u001b[1;32m     11\u001b[0m         \u001b[0moptimizer\u001b[0m\u001b[0;34m.\u001b[0m\u001b[0mstep\u001b[0m\u001b[0;34m(\u001b[0m\u001b[0;34m)\u001b[0m\u001b[0;34m\u001b[0m\u001b[0;34m\u001b[0m\u001b[0m\n\u001b[1;32m     12\u001b[0m         \u001b[0mtotal_loss\u001b[0m \u001b[0;34m+=\u001b[0m \u001b[0mloss\u001b[0m\u001b[0;34m.\u001b[0m\u001b[0mitem\u001b[0m\u001b[0;34m(\u001b[0m\u001b[0;34m)\u001b[0m\u001b[0;34m\u001b[0m\u001b[0;34m\u001b[0m\u001b[0m\n",
            "\u001b[0;32m/usr/local/lib/python3.10/dist-packages/torch/_tensor.py\u001b[0m in \u001b[0;36mbackward\u001b[0;34m(self, gradient, retain_graph, create_graph, inputs)\u001b[0m\n\u001b[1;32m    485\u001b[0m                 \u001b[0minputs\u001b[0m\u001b[0;34m=\u001b[0m\u001b[0minputs\u001b[0m\u001b[0;34m,\u001b[0m\u001b[0;34m\u001b[0m\u001b[0;34m\u001b[0m\u001b[0m\n\u001b[1;32m    486\u001b[0m             )\n\u001b[0;32m--> 487\u001b[0;31m         torch.autograd.backward(\n\u001b[0m\u001b[1;32m    488\u001b[0m             \u001b[0mself\u001b[0m\u001b[0;34m,\u001b[0m \u001b[0mgradient\u001b[0m\u001b[0;34m,\u001b[0m \u001b[0mretain_graph\u001b[0m\u001b[0;34m,\u001b[0m \u001b[0mcreate_graph\u001b[0m\u001b[0;34m,\u001b[0m \u001b[0minputs\u001b[0m\u001b[0;34m=\u001b[0m\u001b[0minputs\u001b[0m\u001b[0;34m\u001b[0m\u001b[0;34m\u001b[0m\u001b[0m\n\u001b[1;32m    489\u001b[0m         )\n",
            "\u001b[0;32m/usr/local/lib/python3.10/dist-packages/torch/autograd/__init__.py\u001b[0m in \u001b[0;36mbackward\u001b[0;34m(tensors, grad_tensors, retain_graph, create_graph, grad_variables, inputs)\u001b[0m\n\u001b[1;32m    198\u001b[0m     \u001b[0;31m# some Python versions print out the first line of a multi-line function\u001b[0m\u001b[0;34m\u001b[0m\u001b[0;34m\u001b[0m\u001b[0m\n\u001b[1;32m    199\u001b[0m     \u001b[0;31m# calls in the traceback and some print out the last line\u001b[0m\u001b[0;34m\u001b[0m\u001b[0;34m\u001b[0m\u001b[0m\n\u001b[0;32m--> 200\u001b[0;31m     Variable._execution_engine.run_backward(  # Calls into the C++ engine to run the backward pass\n\u001b[0m\u001b[1;32m    201\u001b[0m         \u001b[0mtensors\u001b[0m\u001b[0;34m,\u001b[0m \u001b[0mgrad_tensors_\u001b[0m\u001b[0;34m,\u001b[0m \u001b[0mretain_graph\u001b[0m\u001b[0;34m,\u001b[0m \u001b[0mcreate_graph\u001b[0m\u001b[0;34m,\u001b[0m \u001b[0minputs\u001b[0m\u001b[0;34m,\u001b[0m\u001b[0;34m\u001b[0m\u001b[0;34m\u001b[0m\u001b[0m\n\u001b[1;32m    202\u001b[0m         allow_unreachable=True, accumulate_grad=True)  # Calls into the C++ engine to run the backward pass\n",
            "\u001b[0;31mKeyboardInterrupt\u001b[0m: "
          ]
        }
      ],
      "source": [
        "epochs = 5\n",
        "for epoch in range(epochs):\n",
        "    model.train()  # Set the model to training mode\n",
        "    total_loss = 0\n",
        "\n",
        "    for batch_idx, (data, target) in enumerate(train_dataloader):\n",
        "        optimizer.zero_grad()\n",
        "        output = model(data)\n",
        "        loss = loss_fn(output, target)\n",
        "        loss.backward()\n",
        "        optimizer.step()\n",
        "        total_loss += loss.item()\n",
        "\n",
        "        if (batch_idx + 1) % 10 == 0:\n",
        "            print(f'Epoch [{epoch + 1}/{epochs}], Batch [{batch_idx + 1}/{len(train_dataloader)}], Loss: {total_loss / (batch_idx + 1):.4f}')\n",
        "\n",
        "    print(f'Epoch [{epoch + 1}/{epochs}], Loss: {total_loss / len(train_dataloader):.4f}')"
      ]
    },
    {
      "cell_type": "code",
      "execution_count": 18,
      "metadata": {
        "id": "TBziF9yOuuVm"
      },
      "outputs": [],
      "source": [
        "X, y = next(iter(test_dataloader))\n",
        "X\n",
        "# Inferencing\n",
        "model.eval()\n",
        "with torch.inference_mode():\n",
        "  prediction = model(X)"
      ]
    },
    {
      "cell_type": "code",
      "source": [
        "print(prediction.argmax(dim=1))"
      ],
      "metadata": {
        "colab": {
          "base_uri": "https://localhost:8080/"
        },
        "id": "yXSdSEZXroUA",
        "outputId": "06dfd37f-dc0f-4a78-dbc2-03ef79959d65"
      },
      "execution_count": 20,
      "outputs": [
        {
          "output_type": "stream",
          "name": "stdout",
          "text": [
            "tensor([5, 4, 0, 0, 5, 5, 5, 4, 5, 4, 0, 8, 4, 0, 4, 5, 5, 2, 0, 1, 1, 5, 4, 5,\n",
            "        9, 9, 1, 1, 2, 4, 9, 1, 1, 5, 2, 9, 5, 5, 9, 1, 5, 0, 8, 1, 0, 2, 1, 1,\n",
            "        5, 9, 5, 1, 4, 0, 9, 0, 5, 0, 2, 8, 0, 5, 8, 4])\n"
          ]
        }
      ]
    },
    {
      "cell_type": "code",
      "source": [
        "model_name = \"resnet50.pth\"\n",
        "\n",
        "torch.save(model.state_dict(), model_name)"
      ],
      "metadata": {
        "id": "S8768_kssJSu"
      },
      "execution_count": 28,
      "outputs": []
    },
    {
      "cell_type": "code",
      "source": [],
      "metadata": {
        "id": "cMvwTBnTscB7"
      },
      "execution_count": null,
      "outputs": []
    }
  ],
  "metadata": {
    "accelerator": "TPU",
    "colab": {
      "provenance": []
    },
    "kernelspec": {
      "display_name": "Python 3",
      "name": "python3"
    },
    "language_info": {
      "name": "python"
    }
  },
  "nbformat": 4,
  "nbformat_minor": 0
}